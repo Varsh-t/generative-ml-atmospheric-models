{
 "cells": [
  {
   "cell_type": "code",
   "execution_count": 1,
   "metadata": {},
   "outputs": [
    {
     "name": "stderr",
     "output_type": "stream",
     "text": [
      "/home/vt337/.local/lib/python3.10/site-packages/matplotlib/projections/__init__.py:63: UserWarning: Unable to import Axes3D. This may be due to multiple versions of Matplotlib being installed (e.g. as a system package and as a pip package). As a result, the 3D projection is not available.\n",
      "  warnings.warn(\"Unable to import Axes3D. This may be due to multiple versions of \"\n"
     ]
    }
   ],
   "source": [
    "import numpy as np\n",
    "import matplotlib.pyplot as plt\n",
    "from pathlib import Path\n",
    "from sklearn.metrics import mean_squared_error, mean_absolute_error"
   ]
  },
  {
   "cell_type": "code",
   "execution_count": 2,
   "metadata": {},
   "outputs": [
    {
     "name": "stdout",
     "output_type": "stream",
     "text": [
      "../Data/r77-mini-data-fortnight/input\n"
     ]
    }
   ],
   "source": [
    "proj_dir = Path(\"..\") / \"Data/r77-mini-data-fortnight\"\n",
    "print(proj_dir.joinpath(\"input\"))\n",
    "\n",
    "data_dir = proj_dir\n",
    "input_dir = data_dir.joinpath(\"input\")\n",
    "fixed_input_dir = input_dir.joinpath(\"fixed\")\n",
    "temporal_input_dir = input_dir.joinpath(\"temporal\")\n",
    "target_dir = data_dir.joinpath(\"target\")\n",
    "fixed_target_dir = target_dir.joinpath(\"fixed\")\n",
    "temporal_target_dir = target_dir.joinpath(\"temporal\")"
   ]
  },
  {
   "cell_type": "code",
   "execution_count": 3,
   "metadata": {},
   "outputs": [
    {
     "data": {
      "text/plain": [
       "(144, 70, 100, 3)"
      ]
     },
     "execution_count": 3,
     "metadata": {},
     "output_type": "execute_result"
    }
   ],
   "source": [
    "files = list(temporal_target_dir.iterdir())\n",
    "\n",
    "\n",
    "index_dir = Path(\"..\")/\"Index\"\n",
    "files_index = list(index_dir.iterdir())\n",
    "indices = np.load(files_index[0]).squeeze()\n",
    "\n",
    "#First hour of data\n",
    "index = indices[0]\n",
    "tt = np.load(files[index]).squeeze()\n",
    "tt.shape"
   ]
  },
  {
   "cell_type": "code",
   "execution_count": 4,
   "metadata": {},
   "outputs": [],
   "source": [
    "files_ti = list(temporal_input_dir.iterdir())"
   ]
  },
  {
   "cell_type": "code",
   "execution_count": 5,
   "metadata": {},
   "outputs": [
    {
     "data": {
      "text/plain": [
       "(5184000, 3, 64)"
      ]
     },
     "execution_count": 5,
     "metadata": {},
     "output_type": "execute_result"
    }
   ],
   "source": [
    "#all diff data\n",
    "data = []\n",
    "\n",
    "for j in range(360):\n",
    "    index = indices[j]\n",
    "\n",
    "    tt = np.load(files[index]).squeeze()\n",
    "    tt = np.transpose(tt, (0, 2, 3, 1))[:, :, :, :64]  #shape: (144, 100, 3, 64)\n",
    "\n",
    "    ti = np.load(files_ti[index]).squeeze()\n",
    "    ti = np.transpose(ti, (0, 2, 1))[:, :, :64]  #shape: (144, 3, 64)\n",
    "\n",
    "    #ensure ti has the same second dimension as tt\n",
    "    ti_expanded = np.repeat(ti[:, None, :, :], tt.shape[1], axis=1)  #shape: (144, 100, 3, 64)\n",
    "\n",
    "    #calculate diff and reshape\n",
    "    diff_data = tt - ti_expanded  #shape: (144, 100, 3, 64)\n",
    "    reshaped_tt = diff_data.reshape(-1, 3, 64)  #shape: (14400, 3, 64)\n",
    "\n",
    "    data.append(reshaped_tt)\n",
    "\n",
    "\n",
    "data = np.concatenate(data).reshape(-1, 3, 64)\n",
    "data.shape"
   ]
  },
  {
   "cell_type": "code",
   "execution_count": 6,
   "metadata": {},
   "outputs": [],
   "source": [
    "def normalise(vector):\n",
    "    min_val = np.min(vector)\n",
    "    max_val = np.max(vector)\n",
    "    normalised_vector = (vector - min_val) / (max_val - min_val)\n",
    "    return normalised_vector, min_val, max_val"
   ]
  },
  {
   "cell_type": "code",
   "execution_count": 13,
   "metadata": {},
   "outputs": [
    {
     "data": {
      "text/plain": [
       "(5184000, 3)"
      ]
     },
     "execution_count": 13,
     "metadata": {},
     "output_type": "execute_result"
    }
   ],
   "source": [
    "files_fixed = list(fixed_input_dir.iterdir())\n",
    "files_ft = list(fixed_target_dir.iterdir())\n",
    "#std dev calculated for each grid using fxed target vectors, combined with fixed input vector to give three fixed variables for each grid\n",
    "#fixed variables all (fixed input repeated 100 times for each grid)\n",
    "\n",
    "cond = []\n",
    "\n",
    "for j in range(360):\n",
    "    index = indices[j]\n",
    "    fi = np.load(files_fixed[index]).squeeze()\n",
    "    ft = np.load(files_ft[index]).squeeze()\n",
    "\n",
    "    stdev_orog = np.array([np.std(i) for i in ft[:,:,1]]).reshape(-1,1)\n",
    "    fixed_input = np.hstack((fi, stdev_orog))\n",
    "    reshaped_fi = np.repeat(fixed_input, 100, axis=0)\n",
    "    cond.append(reshaped_fi)\n",
    "\n",
    "\n",
    "cond = np.concatenate(cond).reshape(-1, 3)\n",
    "cond.shape"
   ]
  },
  {
   "cell_type": "code",
   "execution_count": 14,
   "metadata": {},
   "outputs": [],
   "source": [
    "lsf = cond[:,0]\n",
    "orog = cond[:,1]\n",
    "stdev_orog = cond[:,2]"
   ]
  },
  {
   "cell_type": "code",
   "execution_count": 15,
   "metadata": {},
   "outputs": [
    {
     "data": {
      "text/plain": [
       "(5184000, 3, 64)"
      ]
     },
     "execution_count": 15,
     "metadata": {},
     "output_type": "execute_result"
    }
   ],
   "source": [
    "#all data\n",
    "tt_all = np.stack([\n",
    "    np.transpose(np.load(files[indices[i]]).squeeze(), (0, 2, 3, 1))[:,:,:,:64].reshape((14400, 3, 64), order = 'C')\n",
    "    for i in range(360)\n",
    "])\n",
    "\n",
    "all_data = tt_all.reshape(-1,3,64)\n",
    "all_data.shape"
   ]
  },
  {
   "cell_type": "code",
   "execution_count": 10,
   "metadata": {},
   "outputs": [
    {
     "data": {
      "text/plain": [
       "1220648"
      ]
     },
     "execution_count": 10,
     "metadata": {},
     "output_type": "execute_result"
    }
   ],
   "source": [
    "#has inversion\n",
    "def has_inversion(temperature_profile, troposphere_height):\n",
    "    gradient = np.gradient(temperature_profile[:troposphere_height])\n",
    "    return np.any(np.array(gradient) > 0.0)\n",
    "\n",
    "temp = all_data[:,2,:]\n",
    "\n",
    "inversion = np.array([has_inversion(i, 40) for i in temp])\n",
    "inversion[inversion == False].shape[0]"
   ]
  },
  {
   "cell_type": "code",
   "execution_count": 11,
   "metadata": {},
   "outputs": [
    {
     "name": "stdout",
     "output_type": "stream",
     "text": [
      "no inversion training data (1220648, 3, 64)\n",
      "has inversion training data (3963352, 3, 64)\n"
     ]
    }
   ],
   "source": [
    "indices1 = np.where((inversion == False))[0]\n",
    "data1 = data[indices1]\n",
    "\n",
    "indices2 = np.where((inversion == True))[0]\n",
    "data2 = data[indices2]\n",
    "\n",
    "print(f'no inversion training data {data1.shape}')\n",
    "print(f'has inversion training data {data2.shape}')"
   ]
  },
  {
   "cell_type": "code",
   "execution_count": 12,
   "metadata": {},
   "outputs": [],
   "source": [
    "indices1 = np.where((inversion == False) & (lsf <= 0.2))[0]\n",
    "training_data1 =data[indices1]\n",
    "\n",
    "indices2 = np.where((inversion == False) & (lsf == 1) & (orog < 0.06))[0]\n",
    "training_data2 = data[indices2]\n",
    "\n",
    "indices3 = np.where((inversion == False) & (lsf == 1) & (orog > 0.06))[0]\n",
    "training_data3 = data[indices3]\n",
    "\n",
    "indices4 = np.where((inversion == False) & (lsf < 1) & (lsf > 0.2) & (orog < 0.03))[0]\n",
    "training_data4 = data[indices4]\n",
    "\n",
    "indices5 = np.where((inversion == False) & (lsf < 1) & (lsf > 0.2) & (orog > 0.03))[0]\n",
    "training_data5 = data[indices5]\n",
    "\n",
    "indices6 = np.where((inversion == True) & (lsf <= 0.2))[0]\n",
    "training_data6 = data[indices6]\n",
    "\n",
    "indices7 = np.where((inversion == True) & (lsf == 1) & (orog < 0.06))[0]\n",
    "training_data7 = data[indices7]\n",
    "\n",
    "indices8 = np.where((inversion == True) & (lsf == 1) & (orog > 0.06))[0]\n",
    "training_data8 = data[indices8]\n",
    "\n",
    "indices9 = np.where((inversion == True) & (lsf < 1) & (lsf > 0.2) & (orog < 0.03))[0]\n",
    "training_data9 = data[indices9]\n",
    "\n",
    "indices10 = np.where((inversion == True) & (lsf < 1) & (lsf > 0.2) & (orog > 0.03))[0]\n",
    "training_data10 = data[indices10]"
   ]
  },
  {
   "cell_type": "code",
   "execution_count": 13,
   "metadata": {},
   "outputs": [
    {
     "data": {
      "text/plain": [
       "(10, 10000, 3, 64)"
      ]
     },
     "execution_count": 13,
     "metadata": {},
     "output_type": "execute_result"
    }
   ],
   "source": [
    "num_steps = {\n",
    "    10000: 'Samples_cond_diffs_1',\n",
    "    100000: 'Samples_cond_diffs_A'\n",
    "}\n",
    "\n",
    "j = 100000\n",
    "\n",
    "\n",
    "sample_diff_dir = Path(num_steps[j])\n",
    "files_sample_diff = list(sample_diff_dir.iterdir())\n",
    "\n",
    "sample_diffs = np.load(files_sample_diff[0]).squeeze()\n",
    "sample_diffs.shape"
   ]
  },
  {
   "cell_type": "code",
   "execution_count": 14,
   "metadata": {},
   "outputs": [],
   "source": [
    "def denormalise(normalised_vector, min_val, max_val):\n",
    "    original_vector = normalised_vector * (max_val - min_val) + min_val\n",
    "    return original_vector\n",
    "\n",
    "#samples = denormalise(sample_diffs, min_val, max_val)"
   ]
  },
  {
   "cell_type": "code",
   "execution_count": 15,
   "metadata": {},
   "outputs": [],
   "source": [
    "classes = {\n",
    "    1: 'Class 1 (No Inversion & Sea)',\n",
    "    2: 'Class 2 (No Inversion & Land & Orography < 240m)',\n",
    "    3: 'Class 3 (No Inversion & Land & Orography > 240m)',\n",
    "    4: 'Class 4 (No Inversion & Coastal & Orography < 120m)',\n",
    "    5: 'Class 5 (No Inversion & Coastal & Orography > 120m)',\n",
    "    6: 'Class 6 (Inversion & Sea)',\n",
    "    7: 'Class 7 (Inversion & Land & Orography < 240m)',\n",
    "    8: 'Class 8 (Inversion & Land & Orography > 240m)',\n",
    "    9: 'Class 9 (Inversion & Coastal & Orography < 120m)',\n",
    "    10: 'Class 10 (Inversion & Coastal & Orography > 120m)'\n",
    "}\n",
    "\n",
    "data_list = [training_data1, training_data2, training_data3,training_data4,training_data5,training_data6, training_data7, training_data8,training_data9,training_data10 ]\n"
   ]
  },
  {
   "cell_type": "code",
   "execution_count": 16,
   "metadata": {},
   "outputs": [
    {
     "name": "stdout",
     "output_type": "stream",
     "text": [
      "Mean squared error between means: 6.173614397475546e-11 kg/kg\n",
      "Mean squared error between variances: 4.086064375741216e-09 kg/kg\n",
      "Mean squared error between means: 54675.4375 Pa\n",
      "Mean squared error between variances: 1842.856201171875 Pa\n",
      "Mean squared error between means: 0.021403566002845764(°C)\n",
      "Mean squared error between variances: 0.0911271870136261(°C)\n"
     ]
    }
   ],
   "source": [
    "#class\n",
    "i = 9\n",
    "\n",
    "min_val = normalise(data_list[i])[1]\n",
    "max_val = normalise(data_list[i])[2]\n",
    "sample = denormalise(sample_diffs[i,:,:,:], min_val, max_val)\n",
    "\n",
    "sample_humidity = sample[:, 0, :]*0.025\n",
    "sample_pressure = sample[:, 1, :]*106000\n",
    "sample_temperature = sample[:, 2, :]*180\n",
    "\n",
    "target_humidity = data_list[i][:,0,:]*0.025\n",
    "target_pressure = data_list[i][:,1,:]*106000\n",
    "target_temperature = data_list[i][:,2,:]*180\n",
    "\n",
    "#humid\n",
    "target_mean_1h = np.mean(target_humidity, axis= 0)\n",
    "sample_mean_1h = np.mean(sample_humidity, axis=0)\n",
    "target_variance_1h= np.var(target_humidity, axis= 0)\n",
    "sample_variance_1h = np.var(sample_humidity, axis=0)\n",
    "\n",
    "#press\n",
    "target_mean_1p = np.mean(target_pressure, axis= 0)\n",
    "sample_mean_1p = np.mean(sample_pressure, axis=0)\n",
    "target_variance_1p= np.var(target_pressure, axis= 0)\n",
    "sample_variance_1p = np.var(sample_pressure, axis=0)\n",
    "\n",
    "#temp\n",
    "target_mean_1t = np.mean(target_temperature, axis= 0)\n",
    "sample_mean_1t = np.mean(sample_temperature, axis=0)\n",
    "target_variance_1t= np.var(target_temperature, axis= 0)\n",
    "sample_variance_1t = np.var(sample_temperature, axis=0)\n",
    "\n",
    "mse_hum = mean_squared_error(target_mean_1h, sample_mean_1h)\n",
    "mse_pres = mean_squared_error(target_mean_1p, sample_mean_1p)\n",
    "mse_temp = mean_squared_error(target_mean_1t, sample_mean_1t)\n",
    "\n",
    "mse_hum_v = mean_squared_error(np.sqrt(target_variance_1h), np.sqrt(sample_variance_1h))\n",
    "mse_pres_v = mean_squared_error(np.sqrt(target_variance_1p), np.sqrt(sample_variance_1p))\n",
    "mse_temp_v = mean_squared_error(np.sqrt(target_variance_1t), np.sqrt(sample_variance_1t))\n",
    "\n",
    "print(f'Mean squared error between means: {mse_hum} kg/kg')\n",
    "print(f'Mean squared error between variances: {mse_hum_v} kg/kg')\n",
    "print(f'Mean squared error between means: {mse_pres} Pa')\n",
    "print(f'Mean squared error between variances: {mse_pres_v} Pa')\n",
    "print(f'Mean squared error between means: {mse_temp}(\\u00B0C)')\n",
    "print(f'Mean squared error between variances: {mse_temp_v}(\\u00B0C)')\n",
    "\n"
   ]
  },
  {
   "cell_type": "code",
   "execution_count": 17,
   "metadata": {},
   "outputs": [
    {
     "data": {
      "image/png": "[encoded data removed]",
      "text/plain": [
       "<Figure size 1800x600 with 3 Axes>"
      ]
     },
     "metadata": {},
     "output_type": "display_data"
    }
   ],
   "source": [
    "\n",
    "\n",
    "fig, axs = plt.subplots(1, 3, figsize=(18, 6))\n",
    "\n",
    "axs[0].errorbar(sample_mean_1h, np.arange(64), xerr=np.sqrt(sample_variance_1h), fmt='o', label='Sample Mean', markersize=4, color='blue', ecolor='blue', alpha=0.5)\n",
    "axs[0].errorbar(target_mean_1h, np.arange(64), xerr=np.sqrt(target_variance_1h), fmt='o', label='Target Mean', markersize=4, color='red', ecolor='red', alpha=0.5)\n",
    "axs[0].set_title('Humidity Residuals')\n",
    "axs[0].set_xlabel('Humidity (kg/kg)')\n",
    "axs[0].set_ylabel('Vertical Level')\n",
    "axs[0].set_xlim(-0.0005, 0.0005)\n",
    "axs[0].legend()\n",
    "\n",
    "axs[1].errorbar(sample_mean_1p, np.arange(64), xerr=np.sqrt(sample_variance_1p), fmt='o', label='Sample Mean', markersize=4, color='blue', ecolor='blue', alpha=0.5)\n",
    "axs[1].errorbar(target_mean_1p, np.arange(64), xerr=np.sqrt(target_variance_1p), fmt='o', label='Target Mean', markersize=4, color='red', ecolor='red', alpha=0.5)\n",
    "axs[1].set_title('Pressure Residuals')\n",
    "axs[1].set_xlabel('Pressure (Pa)')\n",
    "axs[1].set_ylabel('Vertical Level')\n",
    "axs[1].set_xlim(-2000, 2000)\n",
    "axs[1].legend()\n",
    "\n",
    "\n",
    "axs[2].errorbar(sample_mean_1t, np.arange(64), xerr=np.sqrt(sample_variance_1t), fmt='o', label='Sample Mean', markersize=4, color='blue', ecolor='blue', alpha=0.5)\n",
    "axs[2].errorbar(target_mean_1t, np.arange(64), xerr=np.sqrt(target_variance_1t), fmt='o', label='Target Mean', markersize=4, color='red', ecolor='red', alpha=0.5)\n",
    "axs[2].set_title('Temperature Residuals')\n",
    "axs[2].set_xlabel('Temperature (\\u00B0C)')\n",
    "axs[2].set_ylabel('Vertical Level')\n",
    "axs[2].set_xlim(-3, 3)\n",
    "axs[2].legend()\n",
    "\n",
    "fig.suptitle(f'{classes[i+1]}, Number of Training steps: {j}', fontsize = 16)\n",
    "plt.tight_layout()\n",
    "\n",
    "\n",
    "plt.show()\n",
    "\n",
    "\n"
   ]
  },
  {
   "cell_type": "code",
   "execution_count": 18,
   "metadata": {},
   "outputs": [
    {
     "name": "stdout",
     "output_type": "stream",
     "text": [
      "Mean squared error between means: 6.173614397475546e-11 kg/kg\n",
      "Mean squared error between variances: 4.086064375741216e-09 kg/kg\n",
      "Mean squared error between means: 54675.4375 Pa\n",
      "Mean squared error between variances: 1842.856201171875 Pa\n",
      "Mean squared error between means: 0.021403566002845764(°C)\n",
      "Mean squared error between variances: 0.0911271870136261(°C)\n"
     ]
    }
   ],
   "source": [
    "mse_hum = mean_squared_error(target_mean_1h, sample_mean_1h)\n",
    "mse_pres = mean_squared_error(target_mean_1p, sample_mean_1p)\n",
    "mse_temp = mean_squared_error(target_mean_1t, sample_mean_1t)\n",
    "\n",
    "mse_hum_v = mean_squared_error(np.sqrt(target_variance_1h), np.sqrt(sample_variance_1h))\n",
    "mse_pres_v = mean_squared_error(np.sqrt(target_variance_1p), np.sqrt(sample_variance_1p))\n",
    "mse_temp_v = mean_squared_error(np.sqrt(target_variance_1t), np.sqrt(sample_variance_1t))\n",
    "\n",
    "print(f'Mean squared error between means: {mse_hum} kg/kg')\n",
    "print(f'Mean squared error between variances: {mse_hum_v} kg/kg')\n",
    "print(f'Mean squared error between means: {mse_pres} Pa')\n",
    "print(f'Mean squared error between variances: {mse_pres_v} Pa')\n",
    "print(f'Mean squared error between means: {mse_temp}(\\u00B0C)')\n",
    "print(f'Mean squared error between variances: {mse_temp_v}(\\u00B0C)')"
   ]
  },
  {
   "cell_type": "code",
   "execution_count": 16,
   "metadata": {},
   "outputs": [],
   "source": [
    "indices1 = np.where((inversion == False) & (lsf <= 0.2))[0]\n",
    "trainingdata1 = data[indices1]\n",
    "\n",
    "indices2 = np.where((inversion == False) & (lsf == 1) & (stdev_orog < 0.025))[0]\n",
    "trainingdata2 = data[indices2]\n",
    "\n",
    "indices3 = np.where((inversion == False) & (lsf == 1) & (stdev_orog > 0.025))[0]\n",
    "trainingdata3 = data[indices3]\n",
    "\n",
    "indices4 = np.where((inversion == False) & (lsf < 1) & (lsf > 0.2) & (stdev_orog < 0.03))[0]\n",
    "trainingdata4 = data[indices4]\n",
    "\n",
    "indices5 = np.where((inversion == False) & (lsf < 1) & (lsf > 0.2) & (stdev_orog > 0.03))[0]\n",
    "trainingdata5 = data[indices5]\n",
    "\n",
    "indices6 = np.where((inversion == True) & (lsf <= 0.2))[0]\n",
    "trainingdata6 = data[indices6]\n",
    "\n",
    "indices7 = np.where((inversion == True) & (lsf == 1) & (stdev_orog < 0.025))[0]\n",
    "trainingdata7 = data[indices7]\n",
    "\n",
    "indices8 = np.where((inversion == True) & (lsf == 1) & (stdev_orog > 0.025))[0]\n",
    "trainingdata8 = data[indices8]\n",
    "\n",
    "indices9 = np.where((inversion == True) & (lsf < 1) & (lsf > 0.2) & (stdev_orog < 0.03))[0]\n",
    "trainingdata9 = data[indices9]\n",
    "\n",
    "indices10 = np.where((inversion == True) & (lsf < 1) & (lsf > 0.2) & (stdev_orog > 0.03))[0]\n",
    "trainingdata10 = data[indices10]"
   ]
  },
  {
   "cell_type": "code",
   "execution_count": 17,
   "metadata": {},
   "outputs": [
    {
     "name": "stdout",
     "output_type": "stream",
     "text": [
      "class1 training data (645213, 3, 64), 12.4\n",
      "class2 training data (96400, 3, 64),1.9\n",
      "class3 training data (77830, 3, 64), 1.5\n",
      "class4 training data (278033, 3, 64), 5.4\n",
      "class5 training data (123172, 3, 64), 2.4\n",
      "class6 training data (2018787, 3, 64), 38.9\n",
      "class7 training data (360200, 3, 64), 6.9\n",
      "class8 training data (257570, 3, 64), 5.0\n",
      "class9 training data (928967, 3, 64), 17.9\n",
      "class10 training data (397828, 3, 64), 7.7\n"
     ]
    }
   ],
   "source": [
    "print(f'class1 training data {trainingdata1.shape}, {round(trainingdata1.shape[0]/5184000, 3)*100}')\n",
    "print(f'class2 training data {trainingdata2.shape},{round(trainingdata2.shape[0]/5184000, 3)*100}')\n",
    "print(f'class3 training data {trainingdata3.shape}, {round(trainingdata3.shape[0]/5184000, 3)*100}')\n",
    "print(f'class4 training data {trainingdata4.shape}, {round(trainingdata4.shape[0]/5184000, 3)*100}')\n",
    "print(f'class5 training data {trainingdata5.shape}, {round(trainingdata5.shape[0]/5184000, 3)*100}')\n",
    "print(f'class6 training data {trainingdata6.shape}, {round(trainingdata6.shape[0]/5184000, 3)*100}')\n",
    "print(f'class7 training data {trainingdata7.shape}, {round(trainingdata7.shape[0]/5184000, 3)*100}')\n",
    "print(f'class8 training data {trainingdata8.shape}, {round(trainingdata8.shape[0]/5184000, 3)*100}')\n",
    "print(f'class9 training data {trainingdata9.shape}, {round(trainingdata9.shape[0]/5184000, 3)*100}')\n",
    "print(f'class10 training data {trainingdata10.shape}, {round(trainingdata10.shape[0]/5184000, 3)*100}')"
   ]
  },
  {
   "cell_type": "code",
   "execution_count": 18,
   "metadata": {},
   "outputs": [
    {
     "data": {
      "text/plain": [
       "(10, 10000, 3, 64)"
      ]
     },
     "execution_count": 18,
     "metadata": {},
     "output_type": "execute_result"
    }
   ],
   "source": [
    "num_steps = {\n",
    "    10000: 'Samples_cond_diffs_C',\n",
    "    100000: 'Samples_cond_diffs_B'\n",
    "}\n",
    "\n",
    "j = 10000\n",
    "\n",
    "\n",
    "sample_diff_dir = Path(num_steps[j])\n",
    "files_sample_diff = list(sample_diff_dir.iterdir())\n",
    "\n",
    "sample_diffs = np.load(files_sample_diff[0]).squeeze()\n",
    "sample_diffs.shape"
   ]
  },
  {
   "cell_type": "code",
   "execution_count": 19,
   "metadata": {},
   "outputs": [],
   "source": [
    "def denormalise(normalised_vector, min_val, max_val):\n",
    "    original_vector = normalised_vector * (max_val - min_val) + min_val\n",
    "    return original_vector\n",
    "\n"
   ]
  },
  {
   "cell_type": "code",
   "execution_count": 20,
   "metadata": {},
   "outputs": [],
   "source": [
    "classes = {\n",
    "    1: 'Class 1 (No Inversion & Sea)',\n",
    "    2: 'Class 2 (No Inversion & Land & Standard Deviation of Orography < 100m)',\n",
    "    3: 'Class 3 (No Inversion & Land & Standard Deviation of Orography > 100m)',\n",
    "    4: 'Class 4 (No Inversion & Coastal & Standard Deviation of Orography < 120m)',\n",
    "    5: 'Class 5 (No Inversion & Coastal & Standard Deviation of Orography > 120m)',\n",
    "    6: 'Class 6 (Inversion & Sea)',\n",
    "    7: 'Class 7 (Inversion & Land & Standard Deviation of Orography < 100m)',\n",
    "    8: 'Class 8 (Inversion & Land & Standard Deviation of Orography > 100m)',\n",
    "    9: 'Class 9 (Inversion & Coastal & Standard Deviation of Orography < 120m)',\n",
    "    10: 'Class 10 (Inversion & Coastal & Standard Deviation of Orography > 120m)'\n",
    "}\n",
    "\n",
    "data_list = [trainingdata1, trainingdata2, trainingdata3,trainingdata4,trainingdata5,trainingdata6, trainingdata7, trainingdata8,trainingdata9,trainingdata10 ]"
   ]
  },
  {
   "cell_type": "code",
   "execution_count": 41,
   "metadata": {},
   "outputs": [
    {
     "name": "stdout",
     "output_type": "stream",
     "text": [
      "Mean squared error between means: 4.1517189686146594e-10 kg/kg\n",
      "Mean squared error between variances: 2.3797996906438357e-10 kg/kg\n",
      "Mean squared error between means: 147606.5625 Pa\n",
      "Mean squared error between variances: 2278.509521484375 Pa\n",
      "Mean squared error between means: 0.034727223217487335(°C)\n",
      "Mean squared error between variances: 0.06285087764263153(°C)\n"
     ]
    },
    {
     "ename": "",
     "evalue": "",
     "output_type": "error",
     "traceback": [
      "\u001b[1;31mThe Kernel crashed while executing code in the current cell or a previous cell. \n",
      "\u001b[1;31mPlease review the code in the cell(s) to identify a possible cause of the failure. \n",
      "\u001b[1;31mClick <a href='https://aka.ms/vscodeJupyterKernelCrash'>here</a> for more info. \n",
      "\u001b[1;31mView Jupyter <a href='command:jupyter.viewOutput'>log</a> for further details."
     ]
    }
   ],
   "source": [
    "#class\n",
    "i = 9\n",
    "\n",
    "min_val = normalise(data_list[i])[1]\n",
    "max_val = normalise(data_list[i])[2]\n",
    "sample = denormalise(sample_diffs[i,:,:,:], min_val, max_val)\n",
    "\n",
    "sample_humidity = sample[:, 0, :]*0.025\n",
    "sample_pressure = sample[:, 1, :]*106000\n",
    "sample_temperature = sample[:, 2, :]*180\n",
    "\n",
    "target_humidity = data_list[i][:,0,:]*0.025\n",
    "target_pressure = data_list[i][:,1,:]*106000\n",
    "target_temperature = data_list[i][:,2,:]*180\n",
    "\n",
    "#humid\n",
    "target_mean_1h = np.mean(target_humidity, axis= 0)\n",
    "sample_mean_1h = np.mean(sample_humidity, axis=0)\n",
    "target_variance_1h= np.var(target_humidity, axis= 0)\n",
    "sample_variance_1h = np.var(sample_humidity, axis=0)\n",
    "\n",
    "#press\n",
    "target_mean_1p = np.mean(target_pressure, axis= 0)\n",
    "sample_mean_1p = np.mean(sample_pressure, axis=0)\n",
    "target_variance_1p= np.var(target_pressure, axis= 0)\n",
    "sample_variance_1p = np.var(sample_pressure, axis=0)\n",
    "\n",
    "#temp\n",
    "target_mean_1t = np.mean(target_temperature, axis= 0)\n",
    "sample_mean_1t = np.mean(sample_temperature, axis=0)\n",
    "target_variance_1t= np.var(target_temperature, axis= 0)\n",
    "sample_variance_1t = np.var(sample_temperature, axis=0)\n",
    "\n",
    "mse_hum = mean_squared_error(target_mean_1h, sample_mean_1h)\n",
    "mse_pres = mean_squared_error(target_mean_1p, sample_mean_1p)\n",
    "mse_temp = mean_squared_error(target_mean_1t, sample_mean_1t)\n",
    "\n",
    "mse_hum_v = mean_squared_error(np.sqrt(target_variance_1h), np.sqrt(sample_variance_1h))\n",
    "mse_pres_v = mean_squared_error(np.sqrt(target_variance_1p), np.sqrt(sample_variance_1p))\n",
    "mse_temp_v = mean_squared_error(np.sqrt(target_variance_1t), np.sqrt(sample_variance_1t))\n",
    "\n",
    "print(f'Mean squared error between means: {mse_hum} kg/kg')\n",
    "print(f'Mean squared error between variances: {mse_hum_v} kg/kg')\n",
    "print(f'Mean squared error between means: {mse_pres} Pa')\n",
    "print(f'Mean squared error between variances: {mse_pres_v} Pa')\n",
    "print(f'Mean squared error between means: {mse_temp}(\\u00B0C)')\n",
    "print(f'Mean squared error between variances: {mse_temp_v}(\\u00B0C)')\n",
    "\n",
    "\n"
   ]
  },
  {
   "cell_type": "code",
   "execution_count": null,
   "metadata": {},
   "outputs": [],
   "source": [
    "\n",
    "\n",
    "fig, axs = plt.subplots(1, 3, figsize=(18, 6))\n",
    "\n",
    "axs[0].errorbar(sample_mean_1h, np.arange(64), xerr=np.sqrt(sample_variance_1h), fmt='o', label='Sample Mean', markersize=4, color='blue', ecolor='blue', alpha=0.5)\n",
    "axs[0].errorbar(target_mean_1h, np.arange(64), xerr=np.sqrt(target_variance_1h), fmt='o', label='Target Mean', markersize=4, color='red', ecolor='red', alpha=0.5)\n",
    "axs[0].set_title('Humidity Residuals')\n",
    "axs[0].set_xlabel('Humidity (kg/kg)')\n",
    "axs[0].set_ylabel('Vertical Level')\n",
    "axs[0].set_xlim(-0.0005, 0.0005)\n",
    "axs[0].legend()\n",
    "\n",
    "axs[1].errorbar(sample_mean_1p, np.arange(64), xerr=np.sqrt(sample_variance_1p), fmt='o', label='Sample Mean', markersize=4, color='blue', ecolor='blue', alpha=0.5)\n",
    "axs[1].errorbar(target_mean_1p, np.arange(64), xerr=np.sqrt(target_variance_1p), fmt='o', label='Target Mean', markersize=4, color='red', ecolor='red', alpha=0.5)\n",
    "axs[1].set_title('Pressure Residuals')\n",
    "axs[1].set_xlabel('Pressure (Pa)')\n",
    "axs[1].set_ylabel('Vertical Level')\n",
    "axs[1].set_xlim(-2000, 2000)\n",
    "axs[1].legend()\n",
    "\n",
    "\n",
    "axs[2].errorbar(sample_mean_1t, np.arange(64), xerr=np.sqrt(sample_variance_1t), fmt='o', label='Sample Mean', markersize=4, color='blue', ecolor='blue', alpha=0.5)\n",
    "axs[2].errorbar(target_mean_1t, np.arange(64), xerr=np.sqrt(target_variance_1t), fmt='o', label='Target Mean', markersize=4, color='red', ecolor='red', alpha=0.5)\n",
    "axs[2].set_title('Temperature Residuals')\n",
    "axs[2].set_xlabel('Temperature (\\u00B0C)')\n",
    "axs[2].set_ylabel('Vertical Level')\n",
    "axs[2].set_xlim(-3, 3)\n",
    "axs[2].legend()\n",
    "\n",
    "fig.suptitle(f'{classes[i+1]}, Number of Training steps: {j}', fontsize = 16)\n",
    "plt.tight_layout()\n",
    "\n",
    "\n",
    "plt.show()\n",
    "\n",
    "\n"
   ]
  },
  {
   "cell_type": "code",
   "execution_count": 25,
   "metadata": {},
   "outputs": [
    {
     "name": "stdout",
     "output_type": "stream",
     "text": [
      "Mean squared error between means: 1.985995257136608e-10 kg/kg\n",
      "Mean squared error between variances: 2.559297440640762e-09 kg/kg\n",
      "Mean squared error between means: 579.1239624023438 Pa\n",
      "Mean squared error between variances: 6860.4970703125 Pa\n",
      "Mean squared error between means: 0.01703266054391861(°C)\n",
      "Mean squared error between variances: 0.09790684282779694(°C)\n"
     ]
    }
   ],
   "source": [
    "mse_hum = mean_squared_error(target_mean_1h, sample_mean_1h)\n",
    "mse_pres = mean_squared_error(target_mean_1p, sample_mean_1p)\n",
    "mse_temp = mean_squared_error(target_mean_1t, sample_mean_1t)\n",
    "\n",
    "mse_hum_v = mean_squared_error(np.sqrt(target_variance_1h), np.sqrt(sample_variance_1h))\n",
    "mse_pres_v = mean_squared_error(np.sqrt(target_variance_1p), np.sqrt(sample_variance_1p))\n",
    "mse_temp_v = mean_squared_error(np.sqrt(target_variance_1t), np.sqrt(sample_variance_1t))\n",
    "\n",
    "print(f'Mean squared error between means: {mse_hum} kg/kg')\n",
    "print(f'Mean squared error between variances: {mse_hum_v} kg/kg')\n",
    "print(f'Mean squared error between means: {mse_pres} Pa')\n",
    "print(f'Mean squared error between variances: {mse_pres_v} Pa')\n",
    "print(f'Mean squared error between means: {mse_temp}(\\u00B0C)')\n",
    "print(f'Mean squared error between variances: {mse_temp_v}(\\u00B0C)')"
   ]
  }
 ],
 "metadata": {
  "kernelspec": {
   "display_name": "Python 3",
   "language": "python",
   "name": "python3"
  },
  "language_info": {
   "codemirror_mode": {
    "name": "ipython",
    "version": 3
   },
   "file_extension": ".py",
   "mimetype": "text/x-python",
   "name": "python",
   "nbconvert_exporter": "python",
   "pygments_lexer": "ipython3",
   "version": "3.10.12"
  }
 },
 "nbformat": 4,
 "nbformat_minor": 2
}
