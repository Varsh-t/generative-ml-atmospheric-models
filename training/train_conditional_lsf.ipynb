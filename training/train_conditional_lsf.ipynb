{
 "cells": [
  {
   "cell_type": "code",
   "execution_count": 1,
   "metadata": {},
   "outputs": [
    {
     "name": "stderr",
     "output_type": "stream",
     "text": [
      "/home/vt337/.local/lib/python3.10/site-packages/tqdm/auto.py:21: TqdmWarning: IProgress not found. Please update jupyter and ipywidgets. See https://ipywidgets.readthedocs.io/en/stable/user_install.html\n",
      "  from .autonotebook import tqdm as notebook_tqdm\n"
     ]
    }
   ],
   "source": [
    "import numpy as np\n",
    "import matplotlib.pyplot as plt\n",
    "from pathlib import Path\n",
    "import torch\n",
    "import os\n",
    "from denoising_diffusion_pytorch import Unet1D, GaussianDiffusion1D, Trainer1D, Dataset1D"
   ]
  },
  {
   "cell_type": "code",
   "execution_count": 2,
   "metadata": {},
   "outputs": [
    {
     "name": "stdout",
     "output_type": "stream",
     "text": [
      "../Data/r77-mini-data-fortnight/input\n"
     ]
    }
   ],
   "source": [
    "proj_dir = Path(\"..\") / \"Data/r77-mini-data-fortnight\"\n",
    "print(proj_dir.joinpath(\"input\"))\n",
    "\n",
    "data_dir = proj_dir\n",
    "input_dir = data_dir.joinpath(\"input\")\n",
    "fixed_input_dir = input_dir.joinpath(\"fixed\")\n",
    "temporal_input_dir = input_dir.joinpath(\"temporal\")\n",
    "target_dir = data_dir.joinpath(\"target\")\n",
    "fixed_target_dir = target_dir.joinpath(\"fixed\")\n",
    "temporal_target_dir = target_dir.joinpath(\"temporal\")"
   ]
  },
  {
   "cell_type": "code",
   "execution_count": 3,
   "metadata": {},
   "outputs": [
    {
     "data": {
      "text/plain": [
       "(144, 70, 100, 3)"
      ]
     },
     "execution_count": 3,
     "metadata": {},
     "output_type": "execute_result"
    }
   ],
   "source": [
    "files = list(temporal_target_dir.iterdir())\n",
    "\n",
    "index_dir = Path(\"..\")/\"Index\"\n",
    "files_index = list(index_dir.iterdir())\n",
    "indices = np.load(files_index[0]).squeeze()\n",
    "\n",
    "#First hour of data\n",
    "index = indices[0]\n",
    "tt = np.load(files[index]).squeeze()\n",
    "tt.shape"
   ]
  },
  {
   "cell_type": "code",
   "execution_count": 4,
   "metadata": {},
   "outputs": [
    {
     "data": {
      "text/plain": [
       "(14400, 3, 64)"
      ]
     },
     "execution_count": 4,
     "metadata": {},
     "output_type": "execute_result"
    }
   ],
   "source": [
    "transposed_tt = np.transpose(tt, (0, 2, 3, 1))[:,:,:,:64]\n",
    "\n",
    "reshaped_tt = transposed_tt.reshape(-1, 3, 64)\n",
    "\n",
    "reshaped_tt.shape"
   ]
  },
  {
   "cell_type": "code",
   "execution_count": 5,
   "metadata": {},
   "outputs": [
    {
     "data": {
      "text/plain": [
       "(144, 2)"
      ]
     },
     "execution_count": 5,
     "metadata": {},
     "output_type": "execute_result"
    }
   ],
   "source": [
    "files_fixed = list(fixed_input_dir.iterdir())\n",
    "#First hour of data\n",
    "index = indices[0]\n",
    "fi = np.load(files_fixed[index]).squeeze()\n",
    "fi.shape"
   ]
  },
  {
   "cell_type": "code",
   "execution_count": 6,
   "metadata": {},
   "outputs": [
    {
     "data": {
      "text/plain": [
       "(144, 100, 2)"
      ]
     },
     "execution_count": 6,
     "metadata": {},
     "output_type": "execute_result"
    }
   ],
   "source": [
    "files_ft = list(fixed_target_dir.iterdir())\n",
    "#First hour of data\n",
    "index = indices[0]\n",
    "ft = np.load(files_ft[index]).squeeze()\n",
    "ft.shape"
   ]
  },
  {
   "cell_type": "code",
   "execution_count": 7,
   "metadata": {},
   "outputs": [
    {
     "data": {
      "text/plain": [
       "(144, 1)"
      ]
     },
     "execution_count": 7,
     "metadata": {},
     "output_type": "execute_result"
    }
   ],
   "source": [
    "stdev_orog = np.array([np.std(i) for i in ft]).reshape(-1,1)\n",
    "stdev_orog.shape"
   ]
  },
  {
   "cell_type": "code",
   "execution_count": 8,
   "metadata": {},
   "outputs": [
    {
     "data": {
      "text/plain": [
       "(144, 3)"
      ]
     },
     "execution_count": 8,
     "metadata": {},
     "output_type": "execute_result"
    }
   ],
   "source": [
    "fixed_input = np.hstack((fi, stdev_orog))\n",
    "fixed_input.shape"
   ]
  },
  {
   "cell_type": "code",
   "execution_count": 9,
   "metadata": {},
   "outputs": [
    {
     "data": {
      "text/plain": [
       "(14400, 2)"
      ]
     },
     "execution_count": 9,
     "metadata": {},
     "output_type": "execute_result"
    }
   ],
   "source": [
    "reshaped_fi = np.repeat(fi, 100, axis=0)\n",
    "reshaped_fi.shape"
   ]
  },
  {
   "cell_type": "code",
   "execution_count": 10,
   "metadata": {},
   "outputs": [],
   "source": [
    "lsf = fixed_input[:,0]\n",
    "orog = fixed_input[:,1]"
   ]
  },
  {
   "cell_type": "code",
   "execution_count": 11,
   "metadata": {},
   "outputs": [],
   "source": [
    "class_1 = fixed_input[(lsf == 0)]\n",
    "class_2 = fixed_input[(lsf == 1)]\n",
    "class_3 = fixed_input[(lsf < 1) & (lsf > 0)]\n",
    "#class_3 = reshaped_fi[(lsf < ) & (orog > 0.5)]\n",
    "#class_4 = reshaped_fi[(lsf > 0.5) & (orog > 0.5)]"
   ]
  },
  {
   "cell_type": "code",
   "execution_count": 12,
   "metadata": {},
   "outputs": [
    {
     "name": "stdout",
     "output_type": "stream",
     "text": [
      "Class 1 shape: (49, 3)\n",
      "Class 2 shape: (22, 3)\n",
      "Class 3 shape: (73, 3)\n"
     ]
    }
   ],
   "source": [
    "print(f'Class 1 shape: {class_1.shape}')\n",
    "print(f'Class 2 shape: {class_2.shape}')\n",
    "print(f'Class 3 shape: {class_3.shape}')\n",
    "#print(f'Class 4 shape: {class_4.shape}')"
   ]
  },
  {
   "cell_type": "code",
   "execution_count": 13,
   "metadata": {},
   "outputs": [
    {
     "data": {
      "text/plain": [
       "<function matplotlib.pyplot.show(close=None, block=None)>"
      ]
     },
     "execution_count": 13,
     "metadata": {},
     "output_type": "execute_result"
    },
    {
     "data": {
      "image/png": "[encoded data removed]",
      "text/plain": [
       "<Figure size 640x480 with 1 Axes>"
      ]
     },
     "metadata": {},
     "output_type": "display_data"
    }
   ],
   "source": [
    "plt.hist(class_3[:,0], bins = 30, density = True)\n",
    "plt.xlabel('Values')\n",
    "plt.ylabel('Density')\n",
    "plt.title('Density Plot of land-sea fraction (coastal)')\n",
    "\n",
    "plt.show"
   ]
  },
  {
   "cell_type": "code",
   "execution_count": 14,
   "metadata": {},
   "outputs": [
    {
     "data": {
      "text/plain": [
       "Text(0.5, 1.0, 'Density Plot of Std dev Orography (Coastal)')"
      ]
     },
     "execution_count": 14,
     "metadata": {},
     "output_type": "execute_result"
    },
    {
     "data": {
      "image/png": "[encoded data removed]",
      "text/plain": [
       "<Figure size 1500x1000 with 6 Axes>"
      ]
     },
     "metadata": {},
     "output_type": "display_data"
    }
   ],
   "source": [
    "fig, axs = plt.subplots(2, 3, figsize=(15, 10))\n",
    "\n",
    "axs[0,0].hist(class_1[:,1], bins=30, density=True)\n",
    "axs[0,0].set_xlabel('Values')\n",
    "axs[0,0].set_ylabel('Density')\n",
    "axs[0,0].set_title('Density Plot of land-sea fraction (Sea)')\n",
    "\n",
    "axs[0,1].hist(class_2[:,1], bins=30, density=True)\n",
    "axs[0,1].set_xlabel('Values')\n",
    "axs[0,1].set_ylabel('Density')\n",
    "axs[0,1].set_title('Density Plot of Orography (Land)')\n",
    "\n",
    "axs[0,2].hist(class_3[:,1], bins=30, density=True)\n",
    "axs[0,2].set_xlabel('Values')\n",
    "axs[0,2].set_ylabel('Density')\n",
    "axs[0,2].set_title('Density Plot of Orography (Coastal)')\n",
    "\n",
    "axs[1,0].hist(class_1[:,2], bins=30, density=True)\n",
    "axs[1,0].set_xlabel('Values')\n",
    "axs[1,0].set_ylabel('Density')\n",
    "axs[1,0].set_title('Density Plot of Std dev Orography (Sea)')\n",
    "\n",
    "axs[1,1].hist(class_2[:,2], bins=30, density=True)\n",
    "axs[1,1].set_xlabel('Values')\n",
    "axs[1,1].set_ylabel('Density')\n",
    "axs[1,1].set_title('Density Plot of Std dev Orography (Land)')\n",
    "\n",
    "axs[1,2].hist(class_3[:,2], bins=30, density=True)\n",
    "axs[1,2].set_xlabel('Values')\n",
    "axs[1,2].set_ylabel('Density')\n",
    "axs[1,2].set_title('Density Plot of Std dev Orography (Coastal)')\n"
   ]
  },
  {
   "cell_type": "code",
   "execution_count": 15,
   "metadata": {},
   "outputs": [],
   "source": [
    "reshaped_fi = np.repeat(fixed_input, 100, axis=0)"
   ]
  },
  {
   "cell_type": "code",
   "execution_count": 16,
   "metadata": {},
   "outputs": [],
   "source": [
    "lsf = reshaped_fi[:,0]\n",
    "orog = reshaped_fi[:,1]\n",
    "stdev_orog = reshaped_fi[:,2]"
   ]
  },
  {
   "cell_type": "code",
   "execution_count": 17,
   "metadata": {},
   "outputs": [],
   "source": [
    "class_1 = reshaped_fi[(lsf == 0)]\n",
    "class_2 = reshaped_fi[(lsf == 1) & (orog < 0.06)]\n",
    "class_3 = reshaped_fi[(lsf == 1) & (orog > 0.06)]\n",
    "class_4 = reshaped_fi[(lsf < 1) & (lsf > 0) & (orog < 0.03)]\n",
    "class_5 = reshaped_fi[(lsf < 1) & (lsf > 0) & (orog > 0.03)]"
   ]
  },
  {
   "cell_type": "code",
   "execution_count": 18,
   "metadata": {},
   "outputs": [
    {
     "name": "stdout",
     "output_type": "stream",
     "text": [
      "Class 1 shape: (4900, 3)\n",
      "Class 2 shape: (1500, 3)\n",
      "Class 3 shape: (700, 3)\n",
      "Class 4 shape: (5700, 3)\n",
      "Class 4 shape: (1600, 3)\n"
     ]
    }
   ],
   "source": [
    "print(f'Class 1 shape: {class_1.shape}')\n",
    "print(f'Class 2 shape: {class_2.shape}')\n",
    "print(f'Class 3 shape: {class_3.shape}')\n",
    "print(f'Class 4 shape: {class_4.shape}')\n",
    "print(f'Class 4 shape: {class_5.shape}')"
   ]
  },
  {
   "cell_type": "code",
   "execution_count": 19,
   "metadata": {},
   "outputs": [],
   "source": [
    "indices1 = np.where((lsf == 0))[0]\n",
    "trainingdata1 = reshaped_tt[indices1]\n",
    "\n",
    "indices2 = np.where((lsf == 1) & (orog <= 0.06))[0]\n",
    "trainingdata2 = reshaped_tt[indices2]\n",
    "\n",
    "indices3 = np.where((lsf == 1) & (orog > 0.06))[0]\n",
    "trainingdata3 = reshaped_tt[indices3]\n",
    "\n",
    "indices4 = np.where((lsf < 1) & (lsf > 0) & (orog <= 0.03))[0]\n",
    "trainingdata4 = reshaped_tt[indices4]\n",
    "\n",
    "indices5 = np.where((lsf < 1) & (lsf > 0) & (orog > 0.03))[0]\n",
    "trainingdata5 = reshaped_tt[indices5]"
   ]
  },
  {
   "cell_type": "code",
   "execution_count": 20,
   "metadata": {},
   "outputs": [
    {
     "name": "stdout",
     "output_type": "stream",
     "text": [
      "class1 training data (4900, 3, 64)\n",
      "class2 training data (1500, 3, 64)\n",
      "class3 training data (700, 3, 64)\n",
      "class4 training data (5700, 3, 64)\n",
      "class5 training data (1600, 3, 64)\n"
     ]
    }
   ],
   "source": [
    "print(f'class1 training data {trainingdata1.shape}')\n",
    "print(f'class2 training data {trainingdata2.shape}')\n",
    "print(f'class3 training data {trainingdata3.shape}')\n",
    "print(f'class4 training data {trainingdata4.shape}')\n",
    "print(f'class5 training data {trainingdata5.shape}')\n"
   ]
  },
  {
   "cell_type": "code",
   "execution_count": 21,
   "metadata": {},
   "outputs": [
    {
     "name": "stdout",
     "output_type": "stream",
     "text": [
      "GPU is available\n"
     ]
    }
   ],
   "source": [
    "import torch\n",
    "\n",
    "if torch.cuda.is_available():\n",
    "    device = torch.device(\"cuda\")\n",
    "    print(\"GPU is available\")\n",
    "else:\n",
    "    device = torch.device(\"cpu\")\n",
    "    print(\"GPU is not available\")"
   ]
  },
  {
   "cell_type": "code",
   "execution_count": 22,
   "metadata": {},
   "outputs": [],
   "source": [
    "\n",
    "data_list = [trainingdata1, trainingdata2, trainingdata3,trainingdata4,trainingdata5]\n"
   ]
  },
  {
   "cell_type": "code",
   "execution_count": 23,
   "metadata": {},
   "outputs": [
    {
     "name": "stderr",
     "output_type": "stream",
     "text": [
      "/home/vt337/.local/lib/python3.10/site-packages/accelerate/accelerator.py:447: FutureWarning: Passing the following arguments to `Accelerator` is deprecated and will be removed in version 1.0 of Accelerate: dict_keys(['split_batches']). Please pass an `accelerate.DataLoaderConfiguration` instead: \n",
      "dataloader_config = DataLoaderConfiguration(split_batches=True)\n",
      "  warnings.warn(\n",
      "sampling loop time step: 100%|██████████| 100/100 [00:00<00:00, 129.59it/s]\n",
      "sampling loop time step: 100%|██████████| 100/100 [00:00<00:00, 144.16it/s]\n",
      "sampling loop time step: 100%|██████████| 100/100 [00:00<00:00, 137.79it/s]\n",
      "sampling loop time step: 100%|██████████| 100/100 [00:00<00:00, 137.49it/s]\n",
      "sampling loop time step: 100%|██████████| 100/100 [00:00<00:00, 137.79it/s]\n",
      "sampling loop time step: 100%|██████████| 100/100 [00:00<00:00, 137.22it/s]\n",
      "sampling loop time step: 100%|██████████| 100/100 [00:00<00:00, 130.25it/s]\n",
      "sampling loop time step: 100%|██████████| 100/100 [00:00<00:00, 131.81it/s]\n",
      "sampling loop time step: 100%|██████████| 100/100 [00:00<00:00, 131.51it/s]\n",
      "sampling loop time step: 100%|██████████| 100/100 [00:00<00:00, 130.99it/s]\n",
      "sampling loop time step: 100%|██████████| 100/100 [00:00<00:00, 142.61it/s]\n",
      "sampling loop time step: 100%|██████████| 100/100 [00:00<00:00, 145.40it/s]\n",
      "sampling loop time step: 100%|██████████| 100/100 [00:00<00:00, 142.99it/s]\n",
      "sampling loop time step: 100%|██████████| 100/100 [00:00<00:00, 143.02it/s]\n",
      "sampling loop time step: 100%|██████████| 100/100 [00:00<00:00, 142.18it/s]\n",
      "sampling loop time step: 100%|██████████| 100/100 [00:00<00:00, 129.74it/s]\n",
      "sampling loop time step: 100%|██████████| 100/100 [00:00<00:00, 144.30it/s]\n",
      "sampling loop time step: 100%|██████████| 100/100 [00:00<00:00, 145.12it/s]\n",
      "sampling loop time step: 100%|██████████| 100/100 [00:00<00:00, 145.84it/s]\n",
      "sampling loop time step: 100%|██████████| 100/100 [00:00<00:00, 147.92it/s]\n",
      "sampling loop time step: 100%|██████████| 100/100 [00:00<00:00, 145.87it/s]\n",
      "sampling loop time step: 100%|██████████| 100/100 [00:00<00:00, 142.75it/s]\n",
      "sampling loop time step: 100%|██████████| 100/100 [00:00<00:00, 143.46it/s]\n",
      "sampling loop time step: 100%|██████████| 100/100 [00:00<00:00, 142.68it/s]\n",
      "sampling loop time step: 100%|██████████| 100/100 [00:00<00:00, 129.20it/s]\n",
      "sampling loop time step: 100%|██████████| 100/100 [00:00<00:00, 130.33it/s]\n",
      "sampling loop time step: 100%|██████████| 100/100 [00:00<00:00, 129.82it/s]\n",
      "sampling loop time step: 100%|██████████| 100/100 [00:00<00:00, 130.85it/s]\n",
      "sampling loop time step: 100%|██████████| 100/100 [00:00<00:00, 131.95it/s]\n",
      "sampling loop time step: 100%|██████████| 100/100 [00:00<00:00, 131.48it/s]\n",
      "loss: 0.0089: 100%|██████████| 10000/10000 [10:13<00:00, 16.29it/s]\n"
     ]
    },
    {
     "name": "stdout",
     "output_type": "stream",
     "text": [
      "training complete\n"
     ]
    },
    {
     "name": "stderr",
     "output_type": "stream",
     "text": [
      "sampling loop time step: 100%|██████████| 100/100 [00:00<00:00, 117.06it/s]\n",
      "sampling loop time step: 100%|██████████| 100/100 [00:00<00:00, 129.81it/s]\n",
      "sampling loop time step: 100%|██████████| 100/100 [00:00<00:00, 130.86it/s]\n",
      "sampling loop time step: 100%|██████████| 100/100 [00:00<00:00, 130.62it/s]\n",
      "sampling loop time step: 100%|██████████| 100/100 [00:00<00:00, 130.46it/s]\n",
      "sampling loop time step: 100%|██████████| 100/100 [00:00<00:00, 130.97it/s]\n",
      "sampling loop time step: 100%|██████████| 100/100 [00:00<00:00, 130.72it/s]\n",
      "sampling loop time step: 100%|██████████| 100/100 [00:00<00:00, 128.44it/s]\n",
      "sampling loop time step: 100%|██████████| 100/100 [00:00<00:00, 129.60it/s]\n",
      "sampling loop time step: 100%|██████████| 100/100 [00:00<00:00, 129.45it/s]\n",
      "sampling loop time step: 100%|██████████| 100/100 [00:00<00:00, 144.00it/s]\n",
      "sampling loop time step: 100%|██████████| 100/100 [00:00<00:00, 143.53it/s]\n",
      "sampling loop time step: 100%|██████████| 100/100 [00:00<00:00, 143.51it/s]\n",
      "sampling loop time step: 100%|██████████| 100/100 [00:00<00:00, 139.58it/s]\n",
      "sampling loop time step: 100%|██████████| 100/100 [00:00<00:00, 140.50it/s]\n",
      "sampling loop time step: 100%|██████████| 100/100 [00:00<00:00, 140.59it/s]\n",
      "sampling loop time step: 100%|██████████| 100/100 [00:00<00:00, 143.03it/s]\n",
      "sampling loop time step: 100%|██████████| 100/100 [00:00<00:00, 145.54it/s]\n",
      "sampling loop time step: 100%|██████████| 100/100 [00:00<00:00, 145.32it/s]\n",
      "sampling loop time step: 100%|██████████| 100/100 [00:00<00:00, 130.40it/s]\n",
      "sampling loop time step: 100%|██████████| 100/100 [00:00<00:00, 131.44it/s]\n",
      "sampling loop time step: 100%|██████████| 100/100 [00:00<00:00, 131.37it/s]\n",
      "sampling loop time step: 100%|██████████| 100/100 [00:00<00:00, 143.56it/s]\n",
      "sampling loop time step: 100%|██████████| 100/100 [00:00<00:00, 143.65it/s]\n",
      "sampling loop time step: 100%|██████████| 100/100 [00:00<00:00, 143.35it/s]\n",
      "sampling loop time step: 100%|██████████| 100/100 [00:00<00:00, 145.56it/s]\n",
      "sampling loop time step: 100%|██████████| 100/100 [00:00<00:00, 147.19it/s]\n",
      "sampling loop time step: 100%|██████████| 100/100 [00:00<00:00, 147.25it/s]\n",
      "sampling loop time step: 100%|██████████| 100/100 [00:00<00:00, 142.68it/s]\n",
      "sampling loop time step: 100%|██████████| 100/100 [00:00<00:00, 143.05it/s]\n",
      "sampling loop time step: 100%|██████████| 100/100 [00:00<00:00, 141.75it/s]\n",
      "loss: 0.0017: 100%|██████████| 10000/10000 [10:50<00:00, 15.37it/s]\n"
     ]
    },
    {
     "name": "stdout",
     "output_type": "stream",
     "text": [
      "training complete\n"
     ]
    },
    {
     "name": "stderr",
     "output_type": "stream",
     "text": [
      "sampling loop time step: 100%|██████████| 100/100 [00:00<00:00, 137.63it/s]\n",
      "sampling loop time step: 100%|██████████| 100/100 [00:00<00:00, 143.38it/s]\n",
      "sampling loop time step: 100%|██████████| 100/100 [00:00<00:00, 143.74it/s]\n",
      "sampling loop time step: 100%|██████████| 100/100 [00:00<00:00, 142.95it/s]\n",
      "sampling loop time step: 100%|██████████| 100/100 [00:00<00:00, 128.69it/s]\n",
      "sampling loop time step: 100%|██████████| 100/100 [00:00<00:00, 129.24it/s]\n",
      "sampling loop time step: 100%|██████████| 100/100 [00:00<00:00, 128.94it/s]\n",
      "sampling loop time step: 100%|██████████| 100/100 [00:00<00:00, 142.43it/s]\n",
      "sampling loop time step: 100%|██████████| 100/100 [00:00<00:00, 142.07it/s]\n",
      "sampling loop time step: 100%|██████████| 100/100 [00:00<00:00, 142.39it/s]\n",
      "sampling loop time step: 100%|██████████| 100/100 [00:00<00:00, 130.62it/s]\n",
      "sampling loop time step: 100%|██████████| 100/100 [00:00<00:00, 131.91it/s]\n",
      "sampling loop time step: 100%|██████████| 100/100 [00:00<00:00, 131.69it/s]\n",
      "sampling loop time step: 100%|██████████| 100/100 [00:00<00:00, 141.80it/s]\n",
      "sampling loop time step: 100%|██████████| 100/100 [00:00<00:00, 141.09it/s]\n",
      "sampling loop time step: 100%|██████████| 100/100 [00:00<00:00, 140.42it/s]\n",
      "sampling loop time step: 100%|██████████| 100/100 [00:00<00:00, 129.08it/s]\n",
      "sampling loop time step: 100%|██████████| 100/100 [00:00<00:00, 128.87it/s]\n",
      "sampling loop time step: 100%|██████████| 100/100 [00:00<00:00, 129.69it/s]\n",
      "sampling loop time step: 100%|██████████| 100/100 [00:00<00:00, 128.68it/s]\n",
      "sampling loop time step: 100%|██████████| 100/100 [00:00<00:00, 129.91it/s]\n",
      "sampling loop time step: 100%|██████████| 100/100 [00:00<00:00, 129.42it/s]\n",
      "sampling loop time step: 100%|██████████| 100/100 [00:00<00:00, 143.53it/s]\n",
      "sampling loop time step: 100%|██████████| 100/100 [00:00<00:00, 140.27it/s]\n",
      "sampling loop time step: 100%|██████████| 100/100 [00:00<00:00, 144.77it/s]\n",
      "sampling loop time step: 100%|██████████| 100/100 [00:00<00:00, 143.89it/s]\n",
      "sampling loop time step: 100%|██████████| 100/100 [00:00<00:00, 143.84it/s]\n",
      "sampling loop time step: 100%|██████████| 100/100 [00:00<00:00, 143.32it/s]\n",
      "sampling loop time step: 100%|██████████| 100/100 [00:00<00:00, 127.84it/s]\n",
      "sampling loop time step: 100%|██████████| 100/100 [00:00<00:00, 128.42it/s]\n",
      "sampling loop time step: 100%|██████████| 100/100 [00:00<00:00, 128.27it/s]\n",
      "loss: 0.0024: 100%|██████████| 10000/10000 [12:06<00:00, 13.76it/s]\n"
     ]
    },
    {
     "name": "stdout",
     "output_type": "stream",
     "text": [
      "training complete\n"
     ]
    },
    {
     "name": "stderr",
     "output_type": "stream",
     "text": [
      "sampling loop time step: 100%|██████████| 100/100 [00:00<00:00, 125.77it/s]\n",
      "sampling loop time step: 100%|██████████| 100/100 [00:00<00:00, 142.37it/s]\n",
      "sampling loop time step: 100%|██████████| 100/100 [00:00<00:00, 142.72it/s]\n",
      "sampling loop time step: 100%|██████████| 100/100 [00:00<00:00, 141.96it/s]\n",
      "sampling loop time step: 100%|██████████| 100/100 [00:00<00:00, 128.73it/s]\n",
      "sampling loop time step: 100%|██████████| 100/100 [00:00<00:00, 129.88it/s]\n",
      "sampling loop time step: 100%|██████████| 100/100 [00:00<00:00, 129.36it/s]\n",
      "sampling loop time step: 100%|██████████| 100/100 [00:00<00:00, 143.14it/s]\n",
      "sampling loop time step: 100%|██████████| 100/100 [00:00<00:00, 143.00it/s]\n",
      "sampling loop time step: 100%|██████████| 100/100 [00:00<00:00, 141.68it/s]\n",
      "sampling loop time step: 100%|██████████| 100/100 [00:00<00:00, 130.66it/s]\n",
      "sampling loop time step: 100%|██████████| 100/100 [00:00<00:00, 131.66it/s]\n",
      "sampling loop time step: 100%|██████████| 100/100 [00:00<00:00, 131.60it/s]\n",
      "sampling loop time step: 100%|██████████| 100/100 [00:00<00:00, 129.33it/s]\n",
      "sampling loop time step: 100%|██████████| 100/100 [00:00<00:00, 130.50it/s]\n",
      "sampling loop time step: 100%|██████████| 100/100 [00:00<00:00, 130.23it/s]\n",
      "sampling loop time step: 100%|██████████| 100/100 [00:00<00:00, 142.07it/s]\n",
      "sampling loop time step: 100%|██████████| 100/100 [00:00<00:00, 142.60it/s]\n",
      "sampling loop time step: 100%|██████████| 100/100 [00:00<00:00, 142.43it/s]\n",
      "sampling loop time step: 100%|██████████| 100/100 [00:00<00:00, 139.80it/s]\n",
      "sampling loop time step: 100%|██████████| 100/100 [00:00<00:00, 138.20it/s]\n",
      "sampling loop time step: 100%|██████████| 100/100 [00:00<00:00, 138.26it/s]\n",
      "sampling loop time step: 100%|██████████| 100/100 [00:00<00:00, 129.16it/s]\n",
      "sampling loop time step: 100%|██████████| 100/100 [00:00<00:00, 130.14it/s]\n",
      "sampling loop time step: 100%|██████████| 100/100 [00:00<00:00, 130.04it/s]\n",
      "sampling loop time step: 100%|██████████| 100/100 [00:00<00:00, 141.26it/s]\n",
      "sampling loop time step: 100%|██████████| 100/100 [00:00<00:00, 139.98it/s]\n",
      "sampling loop time step: 100%|██████████| 100/100 [00:00<00:00, 144.90it/s]\n",
      "sampling loop time step: 100%|██████████| 100/100 [00:00<00:00, 141.49it/s]\n",
      "sampling loop time step: 100%|██████████| 100/100 [00:00<00:00, 141.81it/s]\n",
      "sampling loop time step: 100%|██████████| 100/100 [00:00<00:00, 141.61it/s]\n",
      "loss: 0.0063: 100%|██████████| 10000/10000 [10:09<00:00, 16.40it/s]\n"
     ]
    },
    {
     "name": "stdout",
     "output_type": "stream",
     "text": [
      "training complete\n"
     ]
    },
    {
     "name": "stderr",
     "output_type": "stream",
     "text": [
      "sampling loop time step: 100%|██████████| 100/100 [00:00<00:00, 142.89it/s]\n",
      "sampling loop time step: 100%|██████████| 100/100 [00:00<00:00, 130.27it/s]\n",
      "sampling loop time step: 100%|██████████| 100/100 [00:00<00:00, 131.41it/s]\n",
      "sampling loop time step: 100%|██████████| 100/100 [00:00<00:00, 131.06it/s]\n",
      "sampling loop time step: 100%|██████████| 100/100 [00:00<00:00, 130.08it/s]\n",
      "sampling loop time step: 100%|██████████| 100/100 [00:00<00:00, 131.17it/s]\n",
      "sampling loop time step: 100%|██████████| 100/100 [00:00<00:00, 131.11it/s]\n",
      "sampling loop time step: 100%|██████████| 100/100 [00:00<00:00, 142.06it/s]\n",
      "sampling loop time step: 100%|██████████| 100/100 [00:00<00:00, 143.91it/s]\n",
      "sampling loop time step: 100%|██████████| 100/100 [00:00<00:00, 143.30it/s]\n",
      "sampling loop time step: 100%|██████████| 100/100 [00:00<00:00, 131.30it/s]\n",
      "sampling loop time step: 100%|██████████| 100/100 [00:00<00:00, 132.39it/s]\n",
      "sampling loop time step: 100%|██████████| 100/100 [00:00<00:00, 131.97it/s]\n",
      "sampling loop time step: 100%|██████████| 100/100 [00:00<00:00, 137.28it/s]\n",
      "sampling loop time step: 100%|██████████| 100/100 [00:00<00:00, 135.27it/s]\n",
      "sampling loop time step: 100%|██████████| 100/100 [00:00<00:00, 134.81it/s]\n",
      "sampling loop time step: 100%|██████████| 100/100 [00:00<00:00, 130.62it/s]\n",
      "sampling loop time step: 100%|██████████| 100/100 [00:00<00:00, 131.96it/s]\n",
      "sampling loop time step: 100%|██████████| 100/100 [00:00<00:00, 131.36it/s]\n",
      "sampling loop time step: 100%|██████████| 100/100 [00:00<00:00, 140.69it/s]\n",
      "sampling loop time step: 100%|██████████| 100/100 [00:00<00:00, 143.88it/s]\n",
      "sampling loop time step: 100%|██████████| 100/100 [00:00<00:00, 142.56it/s]\n",
      "sampling loop time step: 100%|██████████| 100/100 [00:00<00:00, 145.70it/s]\n",
      "sampling loop time step: 100%|██████████| 100/100 [00:00<00:00, 147.72it/s]\n",
      "sampling loop time step: 100%|██████████| 100/100 [00:00<00:00, 147.44it/s]\n",
      "sampling loop time step: 100%|██████████| 100/100 [00:00<00:00, 130.30it/s]\n",
      "sampling loop time step: 100%|██████████| 100/100 [00:00<00:00, 130.14it/s]\n",
      "sampling loop time step: 100%|██████████| 100/100 [00:00<00:00, 130.59it/s]\n",
      "sampling loop time step: 100%|██████████| 100/100 [00:00<00:00, 129.51it/s]\n",
      "sampling loop time step: 100%|██████████| 100/100 [00:00<00:00, 130.03it/s]\n",
      "sampling loop time step: 100%|██████████| 100/100 [00:00<00:00, 129.48it/s]\n",
      "loss: 0.0081: 100%|██████████| 10000/10000 [10:58<00:00, 15.18it/s]\n"
     ]
    },
    {
     "name": "stdout",
     "output_type": "stream",
     "text": [
      "training complete\n"
     ]
    },
    {
     "name": "stderr",
     "output_type": "stream",
     "text": [
      "sampling loop time step: 100%|██████████| 100/100 [00:00<00:00, 126.59it/s]\n"
     ]
    }
   ],
   "source": [
    "\n",
    "\n",
    "for idx, trainingdata in enumerate(data_list, start = 1): \n",
    "    \n",
    "    \n",
    "\n",
    "    model = Unet1D(\n",
    "        dim = 64,\n",
    "        dim_mults = (1, 2, 4, 8),\n",
    "        channels = 3\n",
    "    ).to(device)\n",
    "\n",
    "    diffusion = GaussianDiffusion1D(\n",
    "        model,\n",
    "        seq_length = 64,\n",
    "        timesteps = 100,\n",
    "        objective = 'pred_v'\n",
    "    ).to(device)\n",
    "\n",
    "    training_seq =  torch.from_numpy(trainingdata) # features are normalized from 0 to 1\n",
    "\n",
    "\n",
    "    trainer = Trainer1D(\n",
    "        diffusion,\n",
    "        dataset = training_seq,\n",
    "        train_batch_size = 10, #set batch size here (take 100 samples, one grid)\n",
    "        train_lr = 1e-4,\n",
    "        train_num_steps = 10000,         # total training steps (1000)\n",
    "        gradient_accumulate_every = 2,    # gradient accumulation steps\n",
    "        ema_decay = 0.995,                # exponential moving average decay\n",
    "        amp = True,                       # turn on mixed precision\n",
    "    )\n",
    "    trainer.train()\n",
    "\n",
    "    # after a lot of training\n",
    "\n",
    "    sampled_seq = diffusion.sample(batch_size = 100).to(device)\n",
    "    torch.save(sampled_seq, f\"sampled_seq{idx}.pt\") "
   ]
  },
  {
   "cell_type": "code",
   "execution_count": 24,
   "metadata": {},
   "outputs": [],
   "source": [
    "sampled_sequences_list = []\n",
    "\n",
    "for i in range(1, 6):  \n",
    "    sampled_seq = torch.load(f\"sampled_seq{i}.pt\")\n",
    "    sampled_sequences_list.append(sampled_seq.cpu().numpy())\n",
    "\n",
    "sampled_sequences = np.array(sampled_sequences_list)\n"
   ]
  },
  {
   "cell_type": "code",
   "execution_count": 25,
   "metadata": {},
   "outputs": [],
   "source": [
    "folder = 'Samples_cond_1'\n",
    "if not os.path.exists(folder):\n",
    "    os.makedirs(folder)\n",
    "\n",
    "file_path = os.path.join(folder, 'sample.npy')\n",
    "np.save(file_path, sampled_sequences)"
   ]
  },
  {
   "cell_type": "code",
   "execution_count": 26,
   "metadata": {},
   "outputs": [],
   "source": [
    "class_1 = reshaped_fi[(lsf == 0)]\n",
    "class_2 = reshaped_fi[(lsf == 1)]\n",
    "class_3 = reshaped_fi[(lsf < 1) & (lsf > 0) & (stdev_orog <= 0.2)]\n",
    "class_4 = reshaped_fi[(lsf < 1) & (lsf > 0) & (stdev_orog > 0.2) & (stdev_orog <= 0.4)]\n",
    "class_5 = reshaped_fi[(lsf < 1) & (lsf > 0) & (stdev_orog > 0.4)]"
   ]
  },
  {
   "cell_type": "code",
   "execution_count": 27,
   "metadata": {},
   "outputs": [
    {
     "name": "stdout",
     "output_type": "stream",
     "text": [
      "Class 1 shape: (4900, 3)\n",
      "Class 2 shape: (2200, 3)\n",
      "Class 3 shape: (1400, 3)\n",
      "Class 4 shape: (1700, 3)\n",
      "Class 4 shape: (4200, 3)\n"
     ]
    }
   ],
   "source": [
    "print(f'Class 1 shape: {class_1.shape}')\n",
    "print(f'Class 2 shape: {class_2.shape}')\n",
    "print(f'Class 3 shape: {class_3.shape}')\n",
    "print(f'Class 4 shape: {class_4.shape}')\n",
    "print(f'Class 4 shape: {class_5.shape}')"
   ]
  },
  {
   "cell_type": "code",
   "execution_count": 28,
   "metadata": {},
   "outputs": [],
   "source": [
    "indices1 = np.where((lsf == 0))[0]\n",
    "trainingdata1 = reshaped_tt[indices1]\n",
    "\n",
    "indices2 = np.where((lsf == 1))[0]\n",
    "trainingdata2 = reshaped_tt[indices2]\n",
    "\n",
    "indices3 = np.where((lsf < 1) & (lsf > 0) & (stdev_orog <= 0.2))[0]\n",
    "trainingdata3 = reshaped_tt[indices3]\n",
    "\n",
    "indices4 = np.where((lsf < 1) & (lsf > 0) & (stdev_orog > 0.2) & (stdev_orog <= 0.4))[0]\n",
    "trainingdata4 = reshaped_tt[indices4]\n",
    "\n",
    "indices5 = np.where((lsf < 1) & (lsf > 0) & (stdev_orog > 0.4))[0]\n",
    "trainingdata5 = reshaped_tt[indices5]"
   ]
  },
  {
   "cell_type": "code",
   "execution_count": 29,
   "metadata": {},
   "outputs": [
    {
     "name": "stdout",
     "output_type": "stream",
     "text": [
      "class1 training data (4900, 3, 64)\n",
      "class2 training data (2200, 3, 64)\n",
      "class3 training data (1400, 3, 64)\n",
      "class4 training data (1700, 3, 64)\n",
      "class5 training data (4200, 3, 64)\n"
     ]
    }
   ],
   "source": [
    "print(f'class1 training data {trainingdata1.shape}')\n",
    "print(f'class2 training data {trainingdata2.shape}')\n",
    "print(f'class3 training data {trainingdata3.shape}')\n",
    "print(f'class4 training data {trainingdata4.shape}')\n",
    "print(f'class5 training data {trainingdata5.shape}')"
   ]
  },
  {
   "cell_type": "code",
   "execution_count": 30,
   "metadata": {},
   "outputs": [],
   "source": [
    "data_list = [trainingdata1, trainingdata2, trainingdata3,trainingdata4,trainingdata5]"
   ]
  },
  {
   "cell_type": "code",
   "execution_count": 31,
   "metadata": {},
   "outputs": [
    {
     "name": "stderr",
     "output_type": "stream",
     "text": [
      "  0%|          | 0/10000 [00:00<?, ?it/s]"
     ]
    },
    {
     "name": "stderr",
     "output_type": "stream",
     "text": [
      "sampling loop time step: 100%|██████████| 100/100 [00:00<00:00, 129.08it/s]\n",
      "sampling loop time step: 100%|██████████| 100/100 [00:00<00:00, 130.46it/s]\n",
      "sampling loop time step: 100%|██████████| 100/100 [00:00<00:00, 130.08it/s]\n",
      "sampling loop time step: 100%|██████████| 100/100 [00:00<00:00, 141.07it/s]\n",
      "sampling loop time step: 100%|██████████| 100/100 [00:00<00:00, 141.36it/s]\n",
      "sampling loop time step: 100%|██████████| 100/100 [00:00<00:00, 138.72it/s]\n",
      "sampling loop time step: 100%|██████████| 100/100 [00:00<00:00, 130.16it/s]\n",
      "sampling loop time step: 100%|██████████| 100/100 [00:00<00:00, 131.11it/s]\n",
      "sampling loop time step: 100%|██████████| 100/100 [00:00<00:00, 130.41it/s]\n",
      "sampling loop time step: 100%|██████████| 100/100 [00:00<00:00, 141.01it/s]\n",
      "sampling loop time step: 100%|██████████| 100/100 [00:00<00:00, 140.68it/s]\n",
      "sampling loop time step: 100%|██████████| 100/100 [00:00<00:00, 140.04it/s]\n",
      "sampling loop time step: 100%|██████████| 100/100 [00:00<00:00, 140.82it/s]\n",
      "sampling loop time step: 100%|██████████| 100/100 [00:00<00:00, 138.59it/s]\n",
      "sampling loop time step: 100%|██████████| 100/100 [00:00<00:00, 141.81it/s]\n",
      "sampling loop time step: 100%|██████████| 100/100 [00:00<00:00, 137.94it/s]\n",
      "sampling loop time step: 100%|██████████| 100/100 [00:00<00:00, 140.60it/s]\n",
      "sampling loop time step: 100%|██████████| 100/100 [00:00<00:00, 138.00it/s]\n",
      "sampling loop time step: 100%|██████████| 100/100 [00:00<00:00, 140.25it/s]\n",
      "sampling loop time step: 100%|██████████| 100/100 [00:00<00:00, 138.61it/s]\n",
      "sampling loop time step: 100%|██████████| 100/100 [00:00<00:00, 137.19it/s]\n",
      "loss: 0.0032:  76%|███████▌  | 7594/10000 [07:45<02:18, 17.36it/s]Exception ignored in: <function _releaseLock at 0x7f2cd01f13f0>\n",
      "Traceback (most recent call last):\n",
      "  File \"/usr/lib/python3.10/logging/__init__.py\", line 228, in _releaseLock\n",
      "    def _releaseLock():\n",
      "KeyboardInterrupt: \n",
      "loss: 0.0037:  78%|███████▊  | 7800/10000 [07:58<02:07, 17.23it/s]"
     ]
    }
   ],
   "source": [
    "\n",
    "\n",
    "for idx, trainingdata in enumerate(data_list, start = 1): \n",
    "    \n",
    "    \n",
    "\n",
    "    model = Unet1D(\n",
    "        dim = 64,\n",
    "        dim_mults = (1, 2, 4, 8),\n",
    "        channels = 3\n",
    "    ).to(device)\n",
    "\n",
    "    diffusion = GaussianDiffusion1D(\n",
    "        model,\n",
    "        seq_length = 64,\n",
    "        timesteps = 100,\n",
    "        objective = 'pred_v'\n",
    "    ).to(device)\n",
    "\n",
    "\n",
    "    training_seq =  torch.from_numpy(trainingdata)  \n",
    "\n",
    "    trainer = Trainer1D(\n",
    "        diffusion,\n",
    "        dataset = training_seq,\n",
    "        train_batch_size = 10, #set batch size here (take 100 samples, one grid)\n",
    "        train_lr = 1e-4,\n",
    "        train_num_steps = 10000,         # total training steps (1000)\n",
    "        gradient_accumulate_every = 2,    # gradient accumulation steps\n",
    "        ema_decay = 0.995,                # exponential moving average decay\n",
    "        amp = True,                       # turn on mixed precision\n",
    "    )\n",
    "    trainer.train()\n",
    "\n",
    "    # after a lot of training\n",
    "\n",
    "    sampled_seq = diffusion.sample(batch_size = 100).to(device)\n",
    "    torch.save(sampled_seq, f\"sampled_seq{idx}.pt\") "
   ]
  },
  {
   "cell_type": "code",
   "execution_count": null,
   "metadata": {},
   "outputs": [],
   "source": [
    "sampled_sequences_list = []\n",
    "\n",
    "for i in range(1, 6):  \n",
    "    sampled_seq = torch.load(f\"sampled_seq{i}.pt\")\n",
    "    sampled_sequences_list.append(sampled_seq.cpu().numpy())\n",
    "\n",
    "sampled_sequences = np.array(sampled_sequences_list)\n"
   ]
  },
  {
   "cell_type": "code",
   "execution_count": null,
   "metadata": {},
   "outputs": [],
   "source": [
    "folder = 'Samples_cond_4'\n",
    "if not os.path.exists(folder):\n",
    "    os.makedirs(folder)\n",
    "\n",
    "file_path = os.path.join(folder, 'sample.npy')\n",
    "np.save(file_path, sampled_sequences)"
   ]
  }
 ],
 "metadata": {
  "kernelspec": {
   "display_name": "Python 3",
   "language": "python",
   "name": "python3"
  },
  "language_info": {
   "codemirror_mode": {
    "name": "ipython",
    "version": 3
   },
   "file_extension": ".py",
   "mimetype": "text/x-python",
   "name": "python",
   "nbconvert_exporter": "python",
   "pygments_lexer": "ipython3",
   "version": "3.10.12"
  }
 },
 "nbformat": 4,
 "nbformat_minor": 2
}
